{
 "cells": [
  {
   "cell_type": "code",
   "execution_count": null,
   "metadata": {},
   "outputs": [],
   "source": [
    "import numpy as np\n",
    "import matplotlib.pyplot as plt\n",
    "% matplotlib inline\n",
    "plt.rcParams[\"figure.dpi\"] = 300\n",
    "plt.rcParams['savefig.bbox'] = 'tight'"
   ]
  },
  {
   "cell_type": "code",
   "execution_count": null,
   "metadata": {},
   "outputs": [],
   "source": [
    "from sklearn.datasets import load_breast_cancer\n",
    "from sklearn.linear_model import LogisticRegression\n",
    "from sklearn.model_selection import train_test_split\n",
    "from sklearn.preprocessing import scale\n",
    "\n",
    "cancer = load_breast_cancer()\n",
    "X, y = scale(cancer.data), cancer.target\n",
    "X.shape"
   ]
  },
  {
   "cell_type": "code",
   "execution_count": null,
   "metadata": {},
   "outputs": [],
   "source": [
    "X_train, X_test, y_train, y_test = train_test_split(X, y, stratify=y)\n",
    "\n",
    "logreg = LogisticRegression()\n",
    "logreg.fit(X_train[:, :2], y_train)"
   ]
  },
  {
   "cell_type": "code",
   "execution_count": null,
   "metadata": {},
   "outputs": [],
   "source": []
  },
  {
   "cell_type": "code",
   "execution_count": null,
   "metadata": {},
   "outputs": [],
   "source": [
    "np.dot((line2[30] - line2[20], line[30] - line[20]), coef)"
   ]
  },
  {
   "cell_type": "code",
   "execution_count": null,
   "metadata": {},
   "outputs": [],
   "source": [
    "plt.scatter(X_train[:, 0], X_train[:, 1], c=y_train, cmap=\"bwr\")\n",
    "coef = logreg.coef_.ravel()\n",
    "line = np.linspace(X_train[:, 1].min(), X_train[:, 1].max())\n",
    "line2 = - (line * coef[1]  + logreg.intercept_) / coef[0]\n",
    "plt.plot(line2, line, c='k', linewidth=2)\n",
    "plt.arrow(line2[20], line[20], .4 * coef[0], .4 * coef[1], color='#00dd00', linewidth=2, head_width=.1)\n",
    "plt.text(-1, .6, \"w\", color='#00dd00', fontsize=20)\n",
    "plt.ylim(-2, 3)\n",
    "plt.gca().set_aspect(\"equal\")\n",
    "plt.savefig(\"images/linear_boundary_vector.png\")"
   ]
  },
  {
   "cell_type": "code",
   "execution_count": null,
   "metadata": {},
   "outputs": [],
   "source": [
    "xmin, xmax = -4, 4\n",
    "xx = np.linspace(xmin, xmax, 100)\n",
    "lw = 2\n",
    "plt.plot([xmin, 0, 0, xmax], [1, 1, 0, 0], color='gold', lw=lw,\n",
    "         label=\"Zero-one loss\")\n",
    "plt.plot(xx, np.where(xx < 1, 1 - xx, 0), color='teal', lw=lw,\n",
    "         label=\"Hinge loss\")\n",
    "\n",
    "plt.plot(xx, np.log2(1 + np.exp(-xx)), color='cornflowerblue', lw=lw,\n",
    "         label=\"Log loss\")\n",
    "#plt.plot(xx, np.where(xx < 1, 1 - xx, 0) ** 2, color='orange', lw=lw,\n",
    "#         label=\"Squared hinge loss\")\n",
    "\n",
    "#plt.ylim((0, 8))\n",
    "plt.legend(loc=\"upper right\")\n",
    "plt.xlabel(r\"Decision function $w^Tx$\")\n",
    "plt.ylabel(\"$L(y=1, w^Tx) $\")\n",
    "plt.savefig(\"images/binary_loss.png\")"
   ]
  },
  {
   "cell_type": "code",
   "execution_count": null,
   "metadata": {},
   "outputs": [],
   "source": [
    "from mpl_toolkits.axes_grid.axislines import SubplotZero\n",
    "fig = plt.figure()\n",
    "ax = SubplotZero(fig, 111)\n",
    "fig.add_subplot(ax)\n",
    "\n",
    "for direction in [\"xzero\", \"yzero\"]:\n",
    "    ax.axis[direction].set_axisline_style(\"-|>\")\n",
    "    ax.axis[direction].set_visible(True)\n",
    "\n",
    "for direction in [\"left\", \"right\", \"bottom\", \"top\"]:\n",
    "    ax.axis[direction].set_visible(False)\n",
    "\n",
    "line =  np.linspace(-5, 5, 100)   \n",
    "ax.plot(line, 1. / (1 + np.exp(-line)))"
   ]
  },
  {
   "cell_type": "code",
   "execution_count": null,
   "metadata": {},
   "outputs": [],
   "source": [
    "X, y = make_blobs(centers=2, random_state=4, n_samples=30)\n",
    "fig, axes = plt.subplots(1, 3, figsize=(12, 4))\n",
    "\n",
    "# a carefully hand-designed dataset lol\n",
    "y[7] = 0\n",
    "y[27] = 0\n",
    "x_min, x_max = X[:, 0].min() - .5, X[:, 0].max() + .5\n",
    "y_min, y_max = X[:, 1].min() - .5, X[:, 1].max() + .5\n",
    "\n",
    "for ax, C in zip(axes, [1e-1, 1, 1e2]):\n",
    "    ax.scatter(X[:, 0], X[:, 1], c=y, cmap=plt.cm.bwr)\n",
    "\n",
    "    svm = SVC(kernel='linear', C=C, tol=0.00001).fit(X, y)\n",
    "    # using SVC instead of LinearSVC so we can get support vectors more easily\n",
    "    w = svm.coef_[0]\n",
    "    a = -w[0] / w[1]\n",
    "    xx = np.linspace(6, 13)\n",
    "    yy = a * xx - (svm.intercept_[0]) / w[1]\n",
    "    ax.plot(xx, yy, c='k')\n",
    "    \n",
    "    ax.scatter(svm.support_vectors_[:, 0], svm.support_vectors_[:, 1],\n",
    "            s=80, facecolors='none', edgecolor='k')\n",
    "    ax.set_xlim(x_min, x_max)\n",
    "    ax.set_ylim(y_min, y_max)\n",
    "    ax.set_xticks(())\n",
    "    ax.set_yticks(())\n",
    "    ax.set_title(\"C = %.2f\" % C)\n",
    "axes[0].legend(loc=\"best\")\n",
    "plt.savefig(\"images/linear_svm_regularization.png\")"
   ]
  },
  {
   "cell_type": "markdown",
   "metadata": {},
   "source": [
    "# Multiclass"
   ]
  },
  {
   "cell_type": "code",
   "execution_count": null,
   "metadata": {},
   "outputs": [],
   "source": [
    "from sklearn.datasets import load_iris\n",
    "iris = load_iris()\n",
    "X, y = iris.data, iris.target\n",
    "print(X.shape)\n",
    "print(np.bincount(y))"
   ]
  },
  {
   "cell_type": "code",
   "execution_count": null,
   "metadata": {},
   "outputs": [],
   "source": [
    "from sklearn.linear_model import LogisticRegression\n",
    "from sklearn.svm import LinearSVC\n",
    "\n",
    "logreg = LogisticRegression(multi_class=\"multinomial\", solver=\"lbfgs\").fit(X, y)\n",
    "linearsvm = LinearSVC().fit(X, y)\n",
    "print(logreg.coef_.shape)\n",
    "print(linearsvm.coef_.shape)"
   ]
  },
  {
   "cell_type": "code",
   "execution_count": null,
   "metadata": {},
   "outputs": [],
   "source": [
    "logreg.coef_"
   ]
  },
  {
   "cell_type": "code",
   "execution_count": null,
   "metadata": {},
   "outputs": [],
   "source": [
    "logreg.intercept_"
   ]
  },
  {
   "cell_type": "code",
   "execution_count": null,
   "metadata": {},
   "outputs": [],
   "source": [
    "from sklearn.preprocessing import scale\n",
    "logreg = LogisticRegression(fit_intercept=False, multi_class=\"multinomial\", solver=\"lbfgs\").fit(scale(X), y)"
   ]
  },
  {
   "cell_type": "code",
   "execution_count": null,
   "metadata": {},
   "outputs": [],
   "source": [
    "fig, axes = plt.subplots(1, 3, figsize=(6, 1.5))\n",
    "for ax, coef, classname in zip(axes, logreg.coef_, iris.target_names):\n",
    "    ax.barh(range(4), coef, height=.5, color=plt.cm.bwr_r(np.sign(coef)))\n",
    "    ax.set_xlim(logreg.coef_.min() - .1, logreg.coef_.max() + .1)\n",
    "\n",
    "    ax.set_title(classname)\n",
    "    ax.set_frame_on(False)\n",
    "    ax.set_yticks(())\n",
    "    \n",
    "axes[0].set_yticks(range(4))\n",
    "axes[0].set_yticklabels(iris.feature_names)\n",
    "plt.tight_layout()\n"
   ]
  },
  {
   "cell_type": "code",
   "execution_count": null,
   "metadata": {},
   "outputs": [],
   "source": [
    "from sklearn.datasets import make_blobs\n",
    "X, y = make_blobs(random_state=27)\n",
    "plt.scatter(X[:, 0], X[:, 1], c=y, cmap=\"Accent\")\n",
    "ax = plt.gca()\n",
    "ax.set_aspect(\"equal\")\n",
    "xlim = ax.get_xlim()\n",
    "ylim = ax.get_ylim()"
   ]
  },
  {
   "cell_type": "markdown",
   "metadata": {},
   "source": [
    "# OVR"
   ]
  },
  {
   "cell_type": "code",
   "execution_count": null,
   "metadata": {},
   "outputs": [],
   "source": [
    "from sklearn.svm import LinearSVC\n",
    "linear_svm = LinearSVC(C=100).fit(X, y)"
   ]
  },
  {
   "cell_type": "code",
   "execution_count": null,
   "metadata": {},
   "outputs": [],
   "source": [
    "points = plt.scatter(X[:, 0], X[:, 1], c=y, cmap=\"Accent\")\n",
    "colors = [plt.cm.Accent(i) for i in [0, 4, 7]]\n",
    "line = np.linspace(X[:, 1].min() - 5, X[:, 1].max() + 5)\n",
    "for coef, intercept, color in zip(linear_svm.coef_, linear_svm.intercept_, colors):\n",
    "    plt.plot(-(line * coef[1] + intercept) / coef[0], line, c=color)\n",
    "plt.gca().set_aspect(\"equal\")\n",
    "plt.xlim(xlim)\n",
    "plt.ylim(ylim)\n",
    "plt.savefig(\"images/ovr_lines.png\")"
   ]
  },
  {
   "cell_type": "code",
   "execution_count": null,
   "metadata": {},
   "outputs": [],
   "source": [
    "import matplotlib as mpl\n",
    "\n",
    "xs = np.linspace(xlim[0], xlim[1], 1000)\n",
    "ys = np.linspace(ylim[0], ylim[1], 1000)\n",
    "xx, yy = np.meshgrid(xs, ys)\n",
    "pred = linear_svm.predict(np.c_[xx.ravel(), yy.ravel()])\n",
    "plt.imshow(pred.reshape(xx.shape), cmap=\"Accent\", alpha=.2, extent=(xlim[0], xlim[1], ylim[1], ylim[0]))\n",
    "points = plt.scatter(X[:, 0], X[:, 1], c=y, cmap=\"Accent\")\n",
    "\n",
    "for coef, intercept, color in zip(linear_svm.coef_, linear_svm.intercept_, colors):\n",
    "    plt.plot(-(line * coef[1] + intercept) / coef[0], line, c=color)\n",
    "plt.xlim(xlim)\n",
    "plt.ylim(ylim)\n",
    "plt.gca().set_aspect(\"equal\")\n",
    "plt.savefig(\"images/ovr_boundaries.png\")"
   ]
  },
  {
   "cell_type": "markdown",
   "metadata": {},
   "source": [
    "# OVO"
   ]
  },
  {
   "cell_type": "code",
   "execution_count": null,
   "metadata": {},
   "outputs": [],
   "source": [
    "from sklearn.svm import SVC\n",
    "\n",
    "svm = SVC(kernel=\"linear\", C=100).fit(X, y)\n",
    "points = plt.scatter(X[:, 0], X[:, 1], c=y, cmap=\"Accent\")\n",
    "line = np.linspace(X[:, 1].min() - 5, X[:, 1].max() + 5)\n",
    "classes = [(0, 1), (0, 2), (1, 2)]\n",
    "for coef, intercept, col in zip(svm.coef_, svm.intercept_, classes):\n",
    "    line2 = -(line * coef[1] + intercept) / coef[0]\n",
    "    plt.plot(line2, line, \"-\", c=colors[col[0]])\n",
    "    plt.plot(line2, line, \"--\", c=colors[col[1]])\n",
    "\n",
    "plt.xlim(xlim)\n",
    "plt.ylim(ylim)\n",
    "plt.gca().set_aspect(\"equal\")\n",
    "plt.savefig(\"images/ovo_lines.png\")"
   ]
  },
  {
   "cell_type": "code",
   "execution_count": null,
   "metadata": {},
   "outputs": [],
   "source": [
    "from sklearn.svm import SVC\n",
    "from sklearn.datasets import make_blobs\n",
    "X, y = make_blobs(random_state=27)\n",
    "\n",
    "svm = SVC(kernel=\"linear\", C=100).fit(X, y)\n",
    "\n",
    "points = plt.scatter(X[:, 0], X[:, 1], c=y, cmap=\"Accent\")\n",
    "pred = svm.predict(np.c_[xx.ravel(), yy.ravel()])\n",
    "plt.imshow(pred.reshape(xx.shape), cmap=\"Accent\", alpha=.2, extent=(xlim[0], xlim[1], ylim[1], ylim[0]))\n",
    "for coef, intercept, col in zip(svm.coef_, svm.intercept_, classes):\n",
    "    line2 = -(line * coef[1] + intercept) / coef[0]\n",
    "    plt.plot(line2, line, \"-\", c=colors[col[0]])\n",
    "    plt.plot(line2, line, \"--\", c=colors[col[1]])\n",
    "plt.xlim(xlim)\n",
    "plt.ylim(ylim)\n",
    "plt.gca().set_aspect(\"equal\")\n",
    "plt.savefig(\"images/ovo_boundaries.png\")"
   ]
  },
  {
   "cell_type": "markdown",
   "metadata": {},
   "source": [
    "# Efficient CV"
   ]
  },
  {
   "cell_type": "code",
   "execution_count": null,
   "metadata": {},
   "outputs": [],
   "source": [
    "from sklearn.datasets import load_boston\n",
    "from sklearn.linear_model import Ridge, RidgeCV\n",
    "from sklearn.model_selection import GridSearchCV\n",
    "\n",
    "boston = load_boston()\n",
    "X_train, X_test, y_train, y_test = train_test_split(\n",
    "    boston.data, boston.target, random_state=42)\n",
    "\n",
    "grid = GridSearchCV(Ridge(), param_grid={'alpha': np.linspace(.1, 1, 10)}, cv=10)\n",
    "grid.fit(X_train, y_train)\n",
    "print(\"Grid-search score: {:.2f}\".format(grid.score(X_test, y_test)))\n",
    "print(\"grid alpha: {}\".format(grid.best_params_['alpha']))\n",
    "\n",
    "ridge = RidgeCV().fit(X_train, y_train)\n",
    "print(\"ridgecv score: {:.2f}\".format(ridge.score(X_test, y_test)))\n",
    "print(\"ridgecv alpha: {}\".format(ridge.alpha_))"
   ]
  },
  {
   "cell_type": "markdown",
   "metadata": {},
   "source": [
    "# Gradient Descent on Branin function"
   ]
  },
  {
   "cell_type": "code",
   "execution_count": null,
   "metadata": {},
   "outputs": [],
   "source": [
    "import numpy as np\n",
    "import matplotlib.pyplot as plt\n",
    "\n",
    "def branin(x):\n",
    "    x1 = x[0]\n",
    "    x2 = x[1]\n",
    "    a = 1.\n",
    "    b = 5.1 / (4.*np.pi**2)\n",
    "    c = 5. / np.pi\n",
    "    r = 6.\n",
    "    s = 10.\n",
    "    t = 1. / (8.*np.pi)\n",
    "    ret  = a*(x2-b*x1**2+c*x1-r)**2+s*(1-t)*np.cos(x1)+s\n",
    "    return ret\n",
    "\n",
    "def branin_derivative(x):\n",
    "    x1 = x[0]\n",
    "    x2 = x[1]\n",
    "    a = 1.\n",
    "    b = 5.1 / (4.*np.pi**2)\n",
    "    c = 5. / np.pi\n",
    "    r = 6.\n",
    "    s = 10.\n",
    "    t = 1. / (8.*np.pi)\n",
    "    # d  = a*(x2-b*x1**2+c*x1-r)**2 + s*(1-t)*np.cos(x1)+s\n",
    "    d1 = (-2*b*x1 + c)*a*2*(x2-b*x1**2+c*x1-r) - s*(1-t)*np.sin(x1)\n",
    "    d2 = 2 * a * (x2-b*x1**2+c*x1-r)\n",
    "    return d1, d2\n",
    "    \n",
    "\n",
    "range_x = np.linspace(-5, 10, 100)\n",
    "range_y = np.linspace(0, 15, 100)\n",
    "xx, yy = np.meshgrid(range_x, range_y)\n",
    "res = np.array([branin(x) for x in zip(xx.ravel(), yy.ravel())])\n",
    "res = res.reshape(xx.shape)"
   ]
  },
  {
   "cell_type": "code",
   "execution_count": null,
   "metadata": {},
   "outputs": [],
   "source": [
    "from mpl_toolkits.mplot3d import Axes3D\n",
    "fig, ax = plt.subplots(subplot_kw=dict(projection='3d'))\n",
    "\n",
    "surf = ax.plot_surface(xx, yy, res, cmap=\"viridis\",\n",
    "                       linewidth=0)\n",
    "plt.show()\n"
   ]
  },
  {
   "cell_type": "code",
   "execution_count": null,
   "metadata": {},
   "outputs": [],
   "source": [
    "fig, axes = plt.subplots(1, 3, figsize=(10, 5), dpi=100)\n",
    "for ax, rate in zip(axes, [0.001, 0.1, 0.3]):\n",
    "    ax.set_title(\"rate={}\".format(rate))\n",
    "    ax.imshow(res, origin=\"lower\", extent=(range_x[0], range_x[-1], range_y[0], range_y[-1]))\n",
    "    x = np.array((6, 14))\n",
    "    for i in range(30):\n",
    "        step = -rate * np.array(branin_derivative(x))\n",
    "        ax.arrow(x[0], x[1], step[0], step[1], color='r', head_width=0.2, length_includes_head=True)\n",
    "        x = x + step\n",
    "    print(x)\n",
    "    print(branin(x))\n",
    "plt.tight_layout()"
   ]
  },
  {
   "cell_type": "code",
   "execution_count": null,
   "metadata": {},
   "outputs": [],
   "source": [
    "plt.figure()\n",
    "plt.imshow(res, origin=\"lower\", extent=(range_x[0], range_x[-1], range_y[0], range_y[-1]))\n",
    "x = np.array((6, 14))\n",
    "for i in range(10):\n",
    "    grad = -0.1 * np.array(branin_derivative(x))\n",
    "    plt.arrow(x[0], x[1], grad[0], grad[1], color='r', head_width=0.3, length_includes_head=True)\n",
    "    x = x + grad\n",
    "print(x)\n",
    "print(branin(x))"
   ]
  },
  {
   "cell_type": "code",
   "execution_count": null,
   "metadata": {},
   "outputs": [],
   "source": [
    "from sklearn.linear_model import SGDClassifier\n",
    "SGDClassifier()"
   ]
  },
  {
   "cell_type": "code",
   "execution_count": null,
   "metadata": {},
   "outputs": [],
   "source": [
    "from sklearn.discriminant_analysis import LinearDiscriminantAnalysis\n",
    "from sklearn.model_selection import cross_val_score\n",
    "\n",
    "lda = LinearDiscriminantAnalysis()\n",
    "np.mean(cross_val_score(lda, iris.data, iris.target, cv=10))"
   ]
  },
  {
   "cell_type": "code",
   "execution_count": null,
   "metadata": {},
   "outputs": [],
   "source": [
    "from sklearn.utils import gen_batches, shuffle\n",
    "\n",
    "X_train, X_test, y_train, y_test = train_test_split(scale(iris.data),\n",
    "                                                    iris.target, stratify=iris.target)\n",
    "batches = [(X_train[batch], y_train[batch]) for batch in gen_batches(X_train.shape[0], 5)]\n",
    "\n",
    "sgd = SGDClassifier()\n",
    "for X_batch, y_batch in batches:\n",
    "    sgd.partial_fit(X_batch, y_batch, classes=[0, 1, 2])\n",
    "sgd.score(X_test, y_test)"
   ]
  },
  {
   "cell_type": "code",
   "execution_count": null,
   "metadata": {},
   "outputs": [],
   "source": [
    "sgd = SGDClassifier()\n",
    "for i in range(10):\n",
    "    for X_batch, y_batch in batches:\n",
    "        sgd.partial_fit(X_batch, y_batch, classes=[0, 1, 2])\n",
    "sgd.score(X_test, y_test)"
   ]
  },
  {
   "cell_type": "code",
   "execution_count": null,
   "metadata": {},
   "outputs": [],
   "source": []
  }
 ],
 "metadata": {
  "anaconda-cloud": {},
  "kernelspec": {
   "display_name": "Python [conda root]",
   "language": "python",
   "name": "conda-root-py"
  },
  "language_info": {
   "codemirror_mode": {
    "name": "ipython",
    "version": 3
   },
   "file_extension": ".py",
   "mimetype": "text/x-python",
   "name": "python",
   "nbconvert_exporter": "python",
   "pygments_lexer": "ipython3",
   "version": "3.6.3"
  }
 },
 "nbformat": 4,
 "nbformat_minor": 2
}
