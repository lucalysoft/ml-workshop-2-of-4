{
 "cells": [
  {
   "cell_type": "markdown",
   "metadata": {},
   "source": [
    "# KNN"
   ]
  },
  {
   "cell_type": "code",
   "execution_count": null,
   "metadata": {},
   "outputs": [],
   "source": [
    "from sklearn.datasets import make_blobs\n",
    "import numpy as np\n",
    "import matplotlib.pyplot as plt\n",
    "from matplotlib import colors\n",
    "\n",
    "%matplotlib inline\n",
    "plt.rcParams['image.cmap'] = \"bwr\"\n",
    "plt.rcParams['figure.dpi'] = \"300\"\n",
    "\n",
    "X, y = make_blobs(centers=2, cluster_std=2, random_state=0, n_samples=50)\n",
    "plt.figure()\n",
    "plt.gca().set_aspect(\"equal\")\n",
    "plt.scatter(X[:, 0], X[:, 1], c=y)\n",
    "plt.savefig(\"knn_boundary_dataset.png\", bbox_inches='tight')"
   ]
  },
  {
   "cell_type": "code",
   "execution_count": null,
   "metadata": {},
   "outputs": [],
   "source": [
    "X_test = np.array([[0.5, 3], [4, 2], [-.5, .5]])\n",
    "\n",
    "plt.figure()\n",
    "plt.gca().set_aspect(\"equal\")\n",
    "plt.scatter(X[:, 0], X[:, 1], c=y)\n",
    "plt.scatter(X_test[:, 0], X_test[:, 1], c='k', marker=\"*\")\n",
    "plt.savefig(\"knn_boundary_test_points.png\", bbox_inches='tight')"
   ]
  },
  {
   "cell_type": "code",
   "execution_count": null,
   "metadata": {},
   "outputs": [],
   "source": [
    "from sklearn.metrics import euclidean_distances\n",
    "from sklearn.neighbors import KNeighborsClassifier\n",
    "\n",
    "def plot_n_neighbors(X, y, n_neighbors=1):\n",
    "    X_test = np.array([[0.5, 3], [4, 2], [-.5, .5]])\n",
    "    dist = euclidean_distances(X, X_test)\n",
    "    closest = np.argsort(dist, axis=0)\n",
    "\n",
    "    plt.figure()\n",
    "    plt.gca().set_aspect(\"equal\")\n",
    "    for x, neighbors in zip(X_test, closest.T):\n",
    "        for neighbor in neighbors[:n_neighbors]:\n",
    "            plt.arrow(x[0], x[1], X[neighbor, 0] - x[0],\n",
    "                    X[neighbor, 1] - x[1], head_width=0, fc='k', ec='k')\n",
    "\n",
    "    clf = KNeighborsClassifier(n_neighbors=n_neighbors).fit(X, y)\n",
    "    test_points = plt.scatter(X_test[:, 0], X_test[:, 1], c=clf.predict(X_test), marker=\"*\")\n",
    "    training_points = plt.scatter(X[:, 0], X[:, 1], c=y)    \n",
    "plot_n_neighbors(X, y)\n",
    "plt.savefig(\"knn_boundary_k1.png\", bbox_inches='tight')"
   ]
  },
  {
   "cell_type": "code",
   "execution_count": null,
   "metadata": {},
   "outputs": [],
   "source": [
    "from sklearn.model_selection import train_test_split\n",
    "X_train, X_test, y_train, y_test = train_test_split(X, y)\n",
    "\n",
    "from sklearn.neighbors import KNeighborsClassifier\n",
    "knn = KNeighborsClassifier(n_neighbors=1)\n",
    "knn.fit(X_train, y_train)\n",
    "print(\"accuracy: {:.2f}\".format(knn.score(X_test, y_test)))\n"
   ]
  },
  {
   "cell_type": "code",
   "execution_count": null,
   "metadata": {},
   "outputs": [],
   "source": [
    "plot_n_neighbors(X, y, n_neighbors=3)\n",
    "plt.savefig(\"knn_boundary_k3.png\", bbox_inches='tight')"
   ]
  },
  {
   "cell_type": "code",
   "execution_count": null,
   "metadata": {},
   "outputs": [],
   "source": [
    "def plot_2d_classification(classifier, X, fill=False, ax=None, eps=None, alpha=1):                                       \n",
    "    # multiclass                                                                                                                 \n",
    "    if eps is None:                                                                                                              \n",
    "      eps = X.std() / 2.                                                                                                       \n",
    "\n",
    "    if ax is None:                                                                                                               \n",
    "      ax = plt.gca()                                                                                                           \n",
    "\n",
    "    x_min, x_max = X[:, 0].min() - eps, X[:, 0].max() + eps                                                                      \n",
    "    y_min, y_max = X[:, 1].min() - eps, X[:, 1].max() + eps                                                                      \n",
    "    xx = np.linspace(x_min, x_max, 1000)                                                                                         \n",
    "    yy = np.linspace(y_min, y_max, 1000)                                                                                         \n",
    "\n",
    "    X1, X2 = np.meshgrid(xx, yy)                                                                                                 \n",
    "    X_grid = np.c_[X1.ravel(), X2.ravel()]                                                                                       \n",
    "    decision_values = classifier.predict(X_grid)                                                                                 \n",
    "    ax.imshow(decision_values.reshape(X1.shape), extent=(x_min, x_max,                                                           \n",
    "                                                       y_min, y_max),                                                          \n",
    "            aspect='auto', origin='lower', alpha=alpha)                                                               \n",
    "    ax.set_xlim(x_min, x_max)                                                                                                    \n",
    "    ax.set_ylim(y_min, y_max)                                                                                                    \n",
    "    ax.set_xticks(())                                                                                                            \n",
    "    ax.set_yticks(())  "
   ]
  },
  {
   "cell_type": "code",
   "execution_count": null,
   "metadata": {},
   "outputs": [],
   "source": [
    "fig, axes = plt.subplots(2, 2, figsize=(8, 8))\n",
    "for ax, n_neighbors in zip(axes.ravel(), [1, 5, 10, 30]):\n",
    "    ax.set_title(\"n_neighbors={}\".format(n_neighbors))\n",
    "    clf = KNeighborsClassifier(n_neighbors=n_neighbors).fit(X, y)\n",
    "    ax.scatter(X[:, 0], X[:, 1], c=y, edgecolor='k')\n",
    "    plot_2d_classification(clf, X, ax=ax, alpha=.5)\n",
    "    ax.set_aspect(\"equal\")\n",
    "plt.savefig(\"knn_boundary_varying_k.png\", bbox_inches='tight')"
   ]
  },
  {
   "cell_type": "code",
   "execution_count": null,
   "metadata": {},
   "outputs": [],
   "source": [
    "\n",
    "neighbors = range(1, 30, 2)\n",
    "\n",
    "training_scores = []\n",
    "test_scores = []\n",
    "X_train, X_test, y_train, y_test = train_test_split(X, y, random_state=13)\n",
    "\n",
    "for n_neighbors in neighbors:\n",
    "    knn = KNeighborsClassifier(n_neighbors=n_neighbors).fit(X_train, y_train)\n",
    "    training_scores.append(knn.score(X_train, y_train))\n",
    "    test_scores.append(knn.score(X_test, y_test))\n"
   ]
  },
  {
   "cell_type": "code",
   "execution_count": null,
   "metadata": {},
   "outputs": [],
   "source": [
    "plt.figure()\n",
    "plt.plot(neighbors, training_scores, label=\"training scores\")\n",
    "plt.plot(neighbors, test_scores, label=\"test scores\")\n",
    "plt.ylabel(\"accuracy\")\n",
    "plt.xlabel(\"n_neighbors\")\n",
    "plt.legend()\n",
    "plt.savefig(\"knn_model_complexity.png\", bbox_inches='tight')"
   ]
  },
  {
   "cell_type": "markdown",
   "metadata": {},
   "source": [
    "# Nearest Centroid"
   ]
  },
  {
   "cell_type": "code",
   "execution_count": null,
   "metadata": {},
   "outputs": [],
   "source": [
    "from sklearn.neighbors import NearestCentroid\n",
    "plt.figure()\n",
    "nc = NearestCentroid()\n",
    "nc.fit(X, y)\n",
    "plt.scatter(X[:, 0], X[:, 1], c=y, edgecolor='k')\n",
    "plot_2d_classification(nc, X, alpha=.5)\n",
    "plt.gca().set_aspect(\"equal\")\n",
    "plt.scatter(nc.centroids_[:, 0], nc.centroids_[:, 1], c=['b', 'r'], s=100, marker='x')\n",
    "plt.savefig(\"nearest_centroid_boundary.png\", bbox_inches='tight')"
   ]
  },
  {
   "cell_type": "code",
   "execution_count": null,
   "metadata": {},
   "outputs": [],
   "source": [
    "from sklearn.model_selection import train_test_split\n",
    "X_train, X_test, y_train, y_test = train_test_split(X, y)\n",
    "\n",
    "from sklearn.neighbors import NearestCentroid\n",
    "nc = NearestCentroid()\n",
    "nc.fit(X_train, y_train)\n",
    "print(\"accuracy: {:.2f}\".format(nc.score(X_test, y_test)))"
   ]
  },
  {
   "cell_type": "code",
   "execution_count": null,
   "metadata": {},
   "outputs": [],
   "source": [
    "from sklearn.neighbors import NearestCentroid\n",
    "fig, axes = plt.subplots(1, 3, figsize=(10, 5))\n",
    "thresholds = [0, 0.4, .8]\n",
    "\n",
    "for threshold, ax in zip(thresholds, axes):\n",
    "    ax.set_title(\"shrink_threshold={}\".format(threshold))\n",
    "    nc = NearestCentroid(shrink_threshold=threshold)\n",
    "    nc.fit(X, y)\n",
    "    ax.scatter(X[:, 0], X[:, 1], c=y, edgecolor='k')\n",
    "    plot_2d_classification(nc, X, alpha=.5, ax=ax)\n",
    "    ax.scatter(nc.centroids_[:, 0], nc.centroids_[:, 1], c=['b', 'r'], s=50, marker='x')\n",
    "    ax.set_aspect(\"equal\")\n",
    "plt.savefig(\"nearest_shrunken_centroid_boundary.png\", bbox_inches='tight')"
   ]
  },
  {
   "cell_type": "code",
   "execution_count": null,
   "metadata": {},
   "outputs": [],
   "source": [
    "def soft_threshold(x, threshold):\n",
    "    out = np.sign(x) * (np.abs(x) - threshold)\n",
    "    mask = np.abs(x) < threshold\n",
    "    out[mask] = 0\n",
    "    return out"
   ]
  },
  {
   "cell_type": "code",
   "execution_count": null,
   "metadata": {},
   "outputs": [],
   "source": [
    "from mpl_toolkits.axes_grid.axislines import SubplotZero\n",
    "fig = plt.figure()\n",
    "ax = SubplotZero(fig, 111)\n",
    "lin = np.linspace(-2, 2, 100)\n",
    "fig.add_subplot(ax)\n",
    "for direction in [\"xzero\", \"yzero\"]:\n",
    "    ax.axis[direction].set_axisline_style(\"-|>\")\n",
    "    ax.axis[direction].set_visible(True)\n",
    "\n",
    "for direction in [\"left\", \"right\", \"bottom\", \"top\"]:\n",
    "    ax.axis[direction].set_visible(False)\n",
    "\n",
    "\n",
    "ax.plot(lin, soft_threshold(lin, .5))\n",
    "ax.set_title(\"Soft thresholding at 0.5\")\n",
    "plt.savefig(\"nearest_shrunken_centroid_thresholding.png\", bbox_inches='tight')"
   ]
  },
  {
   "cell_type": "code",
   "execution_count": null,
   "metadata": {},
   "outputs": [],
   "source": [
    "X, y = make_blobs(centers=4, random_state=8)\n",
    "y = y % 2\n",
    "\n",
    "knn = KNeighborsClassifier(n_neighbors=1).fit(X, y)\n",
    "nc = NearestCentroid().fit(X, y)"
   ]
  },
  {
   "cell_type": "code",
   "execution_count": null,
   "metadata": {},
   "outputs": [],
   "source": [
    "plt.figure\n",
    "fig, axes = plt.subplots(1, 2)\n",
    "for est, ax in [(knn, axes[0]), (nc, axes[1])]:\n",
    "    ax.scatter(X[:, 0], X[:, 1], c=y, edgecolor='k')\n",
    "    \n",
    "    ax.set_title(est.__class__.__name__)\n",
    "    plot_2d_classification(est, X, alpha=.5, ax=ax)\n",
    "    ax.set_aspect(\"equal\")\n",
    "plt.savefig(\"knn_vs_nearest_centroid.png\", bbox_inches='tight')"
   ]
  },
  {
   "cell_type": "markdown",
   "metadata": {},
   "source": [
    "# Overfitting the test set"
   ]
  },
  {
   "cell_type": "code",
   "execution_count": null,
   "metadata": {},
   "outputs": [],
   "source": [
    "from sklearn.datasets import load_breast_cancer\n",
    "from sklearn.preprocessing import scale\n",
    "\n",
    "data = load_breast_cancer()\n",
    "X, y = data.data, data.target\n",
    "X = scale(X)\n",
    "\n",
    "X_trainval, X_test, y_trainval, y_test = train_test_split(X, y)\n",
    "X_train, X_val, y_train, y_val = train_test_split(X_trainval, y_trainval)\n",
    "\n",
    "knn = KNeighborsClassifier(n_neighbors=5).fit(X_train, y_train)\n",
    "\n",
    "print(\"Validation: {:.3f}\".format(knn.score(X_val, y_val)))\n",
    "print(\"Test: {:.3f}\".format(knn.score(X_test, y_test)))"
   ]
  },
  {
   "cell_type": "code",
   "execution_count": null,
   "metadata": {},
   "outputs": [],
   "source": []
  },
  {
   "cell_type": "code",
   "execution_count": null,
   "metadata": {},
   "outputs": [],
   "source": [
    "val = []\n",
    "test = []\n",
    "\n",
    "for i in range(1000):\n",
    "    rng = np.random.RandomState(i)\n",
    "    noise = rng.normal(scale=.1, size=X_train.shape)\n",
    "    knn = KNeighborsClassifier(n_neighbors=5).fit(X_train + noise, y_train)\n",
    "    val.append(knn.score(X_val, y_val))\n",
    "    test.append(knn.score(X_test, y_test))\n",
    "\n",
    "print(\"Validation: {:.3f}\".format(np.max(val)))\n",
    "print(\"Test: {:.3f}\".format(test[np.argmax(val)]))"
   ]
  },
  {
   "cell_type": "code",
   "execution_count": null,
   "metadata": {},
   "outputs": [],
   "source": [
    "plt.figure()\n",
    "sorting = np.argsort(val)\n",
    "plt.plot(np.array(val)[sorting], \"o\", label=\"val\")\n",
    "plt.plot(np.array(test)[sorting], \"o\", label=\"test\", alpha=.1)\n",
    "\n",
    "plt.legend()"
   ]
  },
  {
   "cell_type": "code",
   "execution_count": null,
   "metadata": {},
   "outputs": [],
   "source": [
    "val_scores = []\n",
    "neighbors = np.arange(1, 15, 2)\n",
    "for i in neighbors:\n",
    "    knn = KNeighborsClassifier(n_neighbors=i)\n",
    "    knn.fit(X_train, y_train)\n",
    "    val_scores.append(knn.score(X_val, y_val))\n",
    "print(\"best validation score: {:.3f}\".format(np.max(val_scores)))\n",
    "best_n_neighbors = neighbors[np.argmax(val_scores)]\n",
    "print(\"best n_neighbors: {}\".format(best_n_neighbors))\n",
    "\n",
    "knn = KNeighborsClassifier(n_neighbors=best_n_neighbors)\n",
    "knn.fit(X_trainval, y_trainval)\n",
    "print(\"test-set score: {:.3f}\".format(knn.score(X_test, y_test)))"
   ]
  },
  {
   "cell_type": "markdown",
   "metadata": {},
   "source": [
    "# Cross validation"
   ]
  },
  {
   "cell_type": "code",
   "execution_count": null,
   "metadata": {},
   "outputs": [],
   "source": [
    "from sklearn.model_selection import cross_val_score\n",
    "\n",
    "X_train, X_test, y_train, y_test = train_test_split(X, y)\n",
    "\n",
    "cross_val_scores = []\n",
    "\n",
    "for i in neighbors:\n",
    "    knn = KNeighborsClassifier(n_neighbors=i)\n",
    "    scores = cross_val_score(knn, X_trainval, y_trainval, cv=10)\n",
    "    cross_val_scores.append(np.mean(scores))\n",
    "    \n",
    "print(\"best cross-validation score: {:.3f}\".format(np.max(cross_val_scores)))\n",
    "best_n_neighbors = neighbors[np.argmax(cross_val_scores)]\n",
    "print(\"best n_neighbors: {}\".format(best_n_neighbors))\n",
    "\n",
    "knn = KNeighborsClassifier(n_neighbors=best_n_neighbors)\n",
    "knn.fit(X_train, y_train)\n",
    "print(\"test-set score: {:.3f}\".format(knn.score(X_test, y_test)))"
   ]
  },
  {
   "cell_type": "code",
   "execution_count": null,
   "metadata": {},
   "outputs": [],
   "source": [
    "plt.figure(figsize=(8, 2))\n",
    "plt.title(\"Time series cross-validation\")\n",
    "# don't think too much about how this figure is generated ...\n",
    "axes = plt.gca()\n",
    "axes.set_frame_on(False)\n",
    "\n",
    "n_folds = 5\n",
    "n_samples = 25\n",
    "\n",
    "n_samples_per_fold = n_samples / float(n_folds)\n",
    "\n",
    "\n",
    "for i in range(n_folds + 1):\n",
    "    therange = range(max(i - 1, 0), n_folds)\n",
    "    colors = [\"w\"] * len(therange)\n",
    "    if i != 0:\n",
    "        colors[0] = \"grey\"\n",
    "    \n",
    "    bars = plt.barh(bottom=therange, width=[n_samples_per_fold - 0.1] * len(therange),\n",
    "           left=i * n_samples_per_fold, height=.6, color=colors, hatch=\"//\", edgecolor='k')\n",
    "axes.invert_yaxis()\n",
    "axes.set_xlim(0, n_samples + 1 + n_samples_per_fold)\n",
    "plt.ylabel(\"CV iterations\")\n",
    "plt.xlabel(\"Data points\")\n",
    "plt.yticks(np.arange(n_folds) + .3, [\"Split %d\" % x for x in range(1, n_folds + 1)])\n",
    "plt.legend([bars[0], bars[-1]], ['Training data', 'Test data'], loc=(1.05, 0.4), frameon=False);\n",
    "plt.tight_layout()"
   ]
  },
  {
   "cell_type": "code",
   "execution_count": null,
   "metadata": {},
   "outputs": [],
   "source": [
    "np.set_printoptions(precision=2)"
   ]
  },
  {
   "cell_type": "code",
   "execution_count": null,
   "metadata": {},
   "outputs": [],
   "source": [
    "from sklearn.model_selection import KFold, StratifiedKFold, ShuffleSplit\n",
    "kfold = KFold(n_splits=5)\n",
    "skfold = StratifiedKFold(n_splits=5, shuffle=True)\n",
    "ss = ShuffleSplit(n_splits=20, train_size=.4, test_size=.3)\n",
    "\n",
    "print(\"KFold:\\n{}\".format(\n",
    "      cross_val_score(KNeighborsClassifier(), X, y, cv=kfold)))\n",
    "\n",
    "print(\"StratifiedKFold:\\n{}\".format(\n",
    "      cross_val_score(KNeighborsClassifier(), X, y, cv=skfold)))\n",
    "\n",
    "print(\"ShuffleSplit:\\n{}\".format(\n",
    "      cross_val_score(KNeighborsClassifier(), X, y, cv=ss)))\n"
   ]
  },
  {
   "cell_type": "markdown",
   "metadata": {},
   "source": [
    "# GridSearchCV"
   ]
  },
  {
   "cell_type": "code",
   "execution_count": null,
   "metadata": {},
   "outputs": [],
   "source": [
    "from sklearn.model_selection import GridSearchCV\n",
    "\n",
    "X_train, X_test, y_train, y_test = train_test_split(X, y, stratify=y)\n",
    "\n",
    "\n",
    "param_grid = {'n_neighbors':  np.arange(1, 30, 2)}\n",
    "grid = GridSearchCV(KNeighborsClassifier(), param_grid=param_grid, cv=10)\n",
    "grid.fit(X_train, y_train)\n",
    "print(\"best mean cross-validation score: {:.3f}\".format(grid.best_score_))\n",
    "print(\"best parameters: {}\".format(grid.best_params_))\n",
    "\n",
    "print(\"test-set score: {:.3f}\".format(grid.score(X_test, y_test)))\n"
   ]
  },
  {
   "cell_type": "code",
   "execution_count": null,
   "metadata": {},
   "outputs": [],
   "source": []
  },
  {
   "cell_type": "code",
   "execution_count": null,
   "metadata": {},
   "outputs": [],
   "source": [
    "import pandas as pd\n",
    "results = pd.DataFrame(grid.cv_results_)\n",
    "results.columns"
   ]
  },
  {
   "cell_type": "code",
   "execution_count": null,
   "metadata": {},
   "outputs": [],
   "source": [
    "results.params"
   ]
  },
  {
   "cell_type": "code",
   "execution_count": null,
   "metadata": {},
   "outputs": [],
   "source": [
    "len(results)"
   ]
  },
  {
   "cell_type": "code",
   "execution_count": null,
   "metadata": {},
   "outputs": [],
   "source": [
    "results.plot('param_n_neighbors', 'mean_train_score')\n",
    "results.plot('param_n_neighbors', 'mean_test_score', ax=plt.gca())\n",
    "plt.fill_between(results.param_n_neighbors.astype(np.int),\n",
    "                 results['mean_train_score'] + results['std_train_score'],\n",
    "                 results['mean_train_score'] - results['std_train_score'], alpha=0.2)\n",
    "plt.fill_between(results.param_n_neighbors.astype(np.int),\n",
    "                 results['mean_test_score'] + results['std_test_score'],\n",
    "                 results['mean_test_score'] - results['std_test_score'], alpha=0.2)\n",
    "plt.legend()\n",
    "plt.savefig(\"grid_search_n_neighbors.png\", bbox_inches='tight')"
   ]
  },
  {
   "cell_type": "code",
   "execution_count": null,
   "metadata": {},
   "outputs": [],
   "source": []
  }
 ],
 "metadata": {
  "anaconda-cloud": {},
  "kernelspec": {
   "display_name": "Python [conda root]",
   "language": "python",
   "name": "conda-root-py"
  },
  "language_info": {
   "codemirror_mode": {
    "name": "ipython",
    "version": 3
   },
   "file_extension": ".py",
   "mimetype": "text/x-python",
   "name": "python",
   "nbconvert_exporter": "python",
   "pygments_lexer": "ipython3",
   "version": "3.6.3"
  }
 },
 "nbformat": 4,
 "nbformat_minor": 2
}
